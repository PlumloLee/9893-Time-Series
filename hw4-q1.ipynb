{
 "cells": [
  {
   "cell_type": "markdown",
   "metadata": {},
   "source": [
    "## Q1"
   ]
  },
  {
   "cell_type": "markdown",
   "metadata": {},
   "source": [
    "### （a）\n",
    "$$H(X) = -\\int_{-\\infty}^{\\infty} f(x) \\log f(x) dx$$\n",
    "$$f(x) = \\frac{1}{\\sqrt{2\\pi\\sigma^2}} e^{-\\frac{(x-\\mu)^2}{2\\sigma^2}}$$\n",
    "$$\\log f(x) = \\log \\left(\\frac{1}{\\sqrt{2\\pi\\sigma^2}} e^{-\\frac{(x-\\mu)^2}{2\\sigma^2}}\\right) = \\log \\left(\\frac{1}{\\sqrt{2\\pi\\sigma^2}}\\right) + \\log \\left(e^{-\\frac{(x-\\mu)^2}{2\\sigma^2}}\\right) = -\\frac{1}{2} \\log (2\\pi\\sigma^2) - \\frac{(x-\\mu)^2}{2\\sigma^2}$$\n",
    "\n",
    "$$\n",
    "\\begin{gathered}\n",
    "H(X) = -\\int_{-\\infty}^{\\infty} f(x) \\log f(x) dx  \\\\\n",
    "& = -\\int_{-\\infty}^{\\infty} \\frac{1}{\\sqrt{2\\pi\\sigma^2}} e^{-\\frac{(x-\\mu)^2}{2\\sigma^2}} \\left(-\\frac{1}{2} \\log (2\\pi\\sigma^2) - \\frac{(x-\\mu)^2}{2\\sigma^2}\\right) dx \\\\\n",
    "& = \\frac{1}{2} \\log (2\\pi\\sigma^2) \\int_{-\\infty}^{\\infty} f(x) dx + \\frac{1}{2\\sigma^2} \\int_{-\\infty}^{\\infty} f(x) (x-\\mu)^2 dx \\\\\n",
    "& = \\frac{1}{2} \\log (2\\pi\\sigma^2) + \\frac{1}{2\\sigma^2} E[(X-\\mu)^2] \\\\\n",
    "& = \\frac{1}{2} \\log (2\\pi\\sigma^2) + \\frac{\\sigma^2}{2\\sigma^2} = \\frac{1}{2} \\log (2\\pi e \\sigma^2)\n",
    "\n",
    "\\end{gathered}$$\n",
    "\n"
   ]
  },
  {
   "cell_type": "markdown",
   "metadata": {},
   "source": [
    "$ X ∼ N(µ, Σ) $\n",
    "\n",
    "$$H(X) = -\\int_{-\\infty}^{\\infty} f(x) \\log f(x) dx$$\n",
    "$$f(x) = \\frac{1}{(2\\pi)^{p/2}|\\Sigma|^{1/2}} e^{-\\frac{1}{2}(x-\\mu)^T \\Sigma^{-1} (x-\\mu)}$$\n",
    "$$\\log f(x) = \\log \\left(\\frac{1}{(2π)^{p/2}|\\Sigma|^{1/2}} e^{-\\frac{1}{2}(x-\\mu)^T \\Sigma^{-1} (x-\\mu)}\\right)$$\n",
    "$$= \\log \\left(\\frac{1}{(2π)^{p/2}|\\Sigma|^{1/2}}\\right) + \\log \\left(e^{-\\frac{1}{2}(x-\\mu)^T \\Sigma^{-1} (x-\\mu)}\\right)$$\n",
    "$$= -\\frac{p}{2} \\log (2\\pi) - \\frac{1}{2} \\log |\\Sigma| - \\frac{1}{2}(x-\\mu)^T \\Sigma^{-1} (x-\\mu)$$\n",
    "\n",
    "\n",
    "$$H(X) = -\\int_{-\\infty}^{\\infty} f(x) \\log f(x) dx$$\n",
    "$$= -\\int_{-\\infty}^{\\infty} \\frac{1}{(2\\pi)^{p/2}|\\Sigma|^{1/2}} e^{-\\frac{1}{2}(x-\\mu)^T \\Sigma^{-1} (x-\\mu)} \\left(-\\frac{p}{2} \\log (2\\pi) - \\frac{1}{2} \\log |\\Sigma| - \\frac{1}{2}(x-\\mu)^T \\Sigma^{-1} (x-\\mu)\\right) dx$$\n",
    "$$= \\frac{p}{2} \\log (2\\pi) + \\frac{1}{2} \\log |\\Sigma| + E\\left[\\frac{1}{2}(X-\\mu)^T \\Sigma^{-1} (X-\\mu)\\right]$$\n",
    "\n",
    "Using the property of trace and determinant, we can further simplify the last term as follows:\n",
    "\n",
    "$$E\\left[\\frac{1}{2}(X-\\mu)^T \\Sigma^{-1} (X-\\mu)\\right] = E\\left[\\frac{1}{2}\\text{tr}\\left((X-\\mu)^T \\Sigma^{-1} (X-\\mu)\\right)\\right]$$\n",
    "$$= E\\left[\\frac{1}{2}\\text{tr}\\left(\\Sigma^{-1} (X-\\mu)(X-\\mu)^T\\right)\\right]$$\n",
    "$$= \\frac{1}{2}\\text{tr}\\left(\\Sigma^{-1} E[(X-\\mu)(X-\\mu)^T]\\right)$$\n",
    "$$= \\frac{1}{2}\\text{tr}\\left(\\Sigma^{-1} \\Sigma\\right)$$\n",
    "$$= \\frac{p}{2}$$\n"
   ]
  },
  {
   "cell_type": "markdown",
   "metadata": {},
   "source": [
    "### （b）\n",
    "$$D(P||Q) = \\sum_x P(x) \\log \\frac{P(x)}{Q(x)}$$\n",
    "\n",
    "$$D(P||Q) = \\sum_{x=0}^n {n \\choose x} p^x (1-p)^{n-x} \\log \\frac{{n \\choose x} p^x (1-p)^{n-x}}{{n \\choose x} q^x (1-q)^{n-x}}$$\n",
    "\n",
    "$$D(P||Q) = \\sum_{x=0}^n {n \\choose x} p^x (1-p)^{n-x} \\left[ x \\log \\frac{p}{q} + (n-x) \\log \\frac{1-p}{1-q} \\right]$$\n",
    "$$D(P||Q) = np \\log \\frac{p}{q} + n(1-p) \\log \\frac{1-p}{1-q}$$\n"
   ]
  },
  {
   "cell_type": "code",
   "execution_count": null,
   "metadata": {},
   "outputs": [],
   "source": []
  }
 ],
 "metadata": {
  "language_info": {
   "name": "python"
  },
  "orig_nbformat": 4
 },
 "nbformat": 4,
 "nbformat_minor": 2
}
